{
  "nbformat": 4,
  "nbformat_minor": 0,
  "metadata": {
    "colab": {
      "provenance": [],
      "collapsed_sections": [],
      "toc_visible": true,
      "mount_file_id": "1tsEPEZ2m2FMWzJPwtL7SFaVlf9VRqDIt",
      "authorship_tag": "ABX9TyPfqjH1cxd3unPIlEx27gqa",
      "include_colab_link": true
    },
    "kernelspec": {
      "name": "python3",
      "display_name": "Python 3"
    },
    "language_info": {
      "name": "python"
    }
  },
  "cells": [
    {
      "cell_type": "markdown",
      "metadata": {
        "id": "view-in-github",
        "colab_type": "text"
      },
      "source": [
        "<a href=\"https://colab.research.google.com/github/AshandPeach/GitColab/blob/main/ASSIST2009_DKT.ipynb\" target=\"_parent\"><img src=\"https://colab.research.google.com/assets/colab-badge.svg\" alt=\"Open In Colab\"/></a>"
      ]
    },
    {
      "cell_type": "code",
      "source": [
        "import pandas as pd\n",
        "data = pd.read_csv(r\"/content/drive/MyDrive/diss_dataset/assistments2009.csv\",encoding = \"ISO-8859-15\",low_memory=False)\n",
        "#auto-generate index\n",
        "#warning: 'utf-8' codec can't decode byte 0x80 in position 109130: invalid start byte\n",
        "data.head()"
      ],
      "metadata": {
        "colab": {
          "base_uri": "https://localhost:8080/",
          "height": 300
        },
        "id": "pS6VNIZ9S8j9",
        "outputId": "7b42d8bc-c772-4a5d-d9b0-977f90ce9ec8"
      },
      "execution_count": 63,
      "outputs": [
        {
          "output_type": "execute_result",
          "data": {
            "text/plain": [
              "   order_id  assignment_id  user_id  assistment_id  problem_id  original  \\\n",
              "0  33022537         277618    64525          33139       51424         1   \n",
              "1  33022709         277618    64525          33150       51435         1   \n",
              "2  35450204         220674    70363          33159       51444         1   \n",
              "3  35450295         220674    70363          33110       51395         1   \n",
              "4  35450311         220674    70363          33196       51481         1   \n",
              "\n",
              "   correct  attempt_count  ms_first_response tutor_mode  ... hint_count  \\\n",
              "0        1              1              32454      tutor  ...          0   \n",
              "1        1              1               4922      tutor  ...          0   \n",
              "2        0              2              25390      tutor  ...          0   \n",
              "3        1              1               4859      tutor  ...          0   \n",
              "4        0             14              19813      tutor  ...          3   \n",
              "\n",
              "   hint_total  overlap_time  template_id answer_id  answer_text  first_action  \\\n",
              "0           3         32454        30799       NaN           26             0   \n",
              "1           3          4922        30799       NaN           55             0   \n",
              "2           3         42000        30799       NaN           88             0   \n",
              "3           3          4859        30059       NaN           41             0   \n",
              "4           4        124564        30060       NaN           65             0   \n",
              "\n",
              "  bottom_hint  opportunity  opportunity_original  \n",
              "0         NaN            1                   1.0  \n",
              "1         NaN            2                   2.0  \n",
              "2         NaN            1                   1.0  \n",
              "3         NaN            2                   2.0  \n",
              "4         0.0            3                   3.0  \n",
              "\n",
              "[5 rows x 30 columns]"
            ],
            "text/html": [
              "\n",
              "  <div id=\"df-3cab73a3-c008-4f03-85d2-1e267a70219f\">\n",
              "    <div class=\"colab-df-container\">\n",
              "      <div>\n",
              "<style scoped>\n",
              "    .dataframe tbody tr th:only-of-type {\n",
              "        vertical-align: middle;\n",
              "    }\n",
              "\n",
              "    .dataframe tbody tr th {\n",
              "        vertical-align: top;\n",
              "    }\n",
              "\n",
              "    .dataframe thead th {\n",
              "        text-align: right;\n",
              "    }\n",
              "</style>\n",
              "<table border=\"1\" class=\"dataframe\">\n",
              "  <thead>\n",
              "    <tr style=\"text-align: right;\">\n",
              "      <th></th>\n",
              "      <th>order_id</th>\n",
              "      <th>assignment_id</th>\n",
              "      <th>user_id</th>\n",
              "      <th>assistment_id</th>\n",
              "      <th>problem_id</th>\n",
              "      <th>original</th>\n",
              "      <th>correct</th>\n",
              "      <th>attempt_count</th>\n",
              "      <th>ms_first_response</th>\n",
              "      <th>tutor_mode</th>\n",
              "      <th>...</th>\n",
              "      <th>hint_count</th>\n",
              "      <th>hint_total</th>\n",
              "      <th>overlap_time</th>\n",
              "      <th>template_id</th>\n",
              "      <th>answer_id</th>\n",
              "      <th>answer_text</th>\n",
              "      <th>first_action</th>\n",
              "      <th>bottom_hint</th>\n",
              "      <th>opportunity</th>\n",
              "      <th>opportunity_original</th>\n",
              "    </tr>\n",
              "  </thead>\n",
              "  <tbody>\n",
              "    <tr>\n",
              "      <th>0</th>\n",
              "      <td>33022537</td>\n",
              "      <td>277618</td>\n",
              "      <td>64525</td>\n",
              "      <td>33139</td>\n",
              "      <td>51424</td>\n",
              "      <td>1</td>\n",
              "      <td>1</td>\n",
              "      <td>1</td>\n",
              "      <td>32454</td>\n",
              "      <td>tutor</td>\n",
              "      <td>...</td>\n",
              "      <td>0</td>\n",
              "      <td>3</td>\n",
              "      <td>32454</td>\n",
              "      <td>30799</td>\n",
              "      <td>NaN</td>\n",
              "      <td>26</td>\n",
              "      <td>0</td>\n",
              "      <td>NaN</td>\n",
              "      <td>1</td>\n",
              "      <td>1.0</td>\n",
              "    </tr>\n",
              "    <tr>\n",
              "      <th>1</th>\n",
              "      <td>33022709</td>\n",
              "      <td>277618</td>\n",
              "      <td>64525</td>\n",
              "      <td>33150</td>\n",
              "      <td>51435</td>\n",
              "      <td>1</td>\n",
              "      <td>1</td>\n",
              "      <td>1</td>\n",
              "      <td>4922</td>\n",
              "      <td>tutor</td>\n",
              "      <td>...</td>\n",
              "      <td>0</td>\n",
              "      <td>3</td>\n",
              "      <td>4922</td>\n",
              "      <td>30799</td>\n",
              "      <td>NaN</td>\n",
              "      <td>55</td>\n",
              "      <td>0</td>\n",
              "      <td>NaN</td>\n",
              "      <td>2</td>\n",
              "      <td>2.0</td>\n",
              "    </tr>\n",
              "    <tr>\n",
              "      <th>2</th>\n",
              "      <td>35450204</td>\n",
              "      <td>220674</td>\n",
              "      <td>70363</td>\n",
              "      <td>33159</td>\n",
              "      <td>51444</td>\n",
              "      <td>1</td>\n",
              "      <td>0</td>\n",
              "      <td>2</td>\n",
              "      <td>25390</td>\n",
              "      <td>tutor</td>\n",
              "      <td>...</td>\n",
              "      <td>0</td>\n",
              "      <td>3</td>\n",
              "      <td>42000</td>\n",
              "      <td>30799</td>\n",
              "      <td>NaN</td>\n",
              "      <td>88</td>\n",
              "      <td>0</td>\n",
              "      <td>NaN</td>\n",
              "      <td>1</td>\n",
              "      <td>1.0</td>\n",
              "    </tr>\n",
              "    <tr>\n",
              "      <th>3</th>\n",
              "      <td>35450295</td>\n",
              "      <td>220674</td>\n",
              "      <td>70363</td>\n",
              "      <td>33110</td>\n",
              "      <td>51395</td>\n",
              "      <td>1</td>\n",
              "      <td>1</td>\n",
              "      <td>1</td>\n",
              "      <td>4859</td>\n",
              "      <td>tutor</td>\n",
              "      <td>...</td>\n",
              "      <td>0</td>\n",
              "      <td>3</td>\n",
              "      <td>4859</td>\n",
              "      <td>30059</td>\n",
              "      <td>NaN</td>\n",
              "      <td>41</td>\n",
              "      <td>0</td>\n",
              "      <td>NaN</td>\n",
              "      <td>2</td>\n",
              "      <td>2.0</td>\n",
              "    </tr>\n",
              "    <tr>\n",
              "      <th>4</th>\n",
              "      <td>35450311</td>\n",
              "      <td>220674</td>\n",
              "      <td>70363</td>\n",
              "      <td>33196</td>\n",
              "      <td>51481</td>\n",
              "      <td>1</td>\n",
              "      <td>0</td>\n",
              "      <td>14</td>\n",
              "      <td>19813</td>\n",
              "      <td>tutor</td>\n",
              "      <td>...</td>\n",
              "      <td>3</td>\n",
              "      <td>4</td>\n",
              "      <td>124564</td>\n",
              "      <td>30060</td>\n",
              "      <td>NaN</td>\n",
              "      <td>65</td>\n",
              "      <td>0</td>\n",
              "      <td>0.0</td>\n",
              "      <td>3</td>\n",
              "      <td>3.0</td>\n",
              "    </tr>\n",
              "  </tbody>\n",
              "</table>\n",
              "<p>5 rows × 30 columns</p>\n",
              "</div>\n",
              "      <button class=\"colab-df-convert\" onclick=\"convertToInteractive('df-3cab73a3-c008-4f03-85d2-1e267a70219f')\"\n",
              "              title=\"Convert this dataframe to an interactive table.\"\n",
              "              style=\"display:none;\">\n",
              "        \n",
              "  <svg xmlns=\"http://www.w3.org/2000/svg\" height=\"24px\"viewBox=\"0 0 24 24\"\n",
              "       width=\"24px\">\n",
              "    <path d=\"M0 0h24v24H0V0z\" fill=\"none\"/>\n",
              "    <path d=\"M18.56 5.44l.94 2.06.94-2.06 2.06-.94-2.06-.94-.94-2.06-.94 2.06-2.06.94zm-11 1L8.5 8.5l.94-2.06 2.06-.94-2.06-.94L8.5 2.5l-.94 2.06-2.06.94zm10 10l.94 2.06.94-2.06 2.06-.94-2.06-.94-.94-2.06-.94 2.06-2.06.94z\"/><path d=\"M17.41 7.96l-1.37-1.37c-.4-.4-.92-.59-1.43-.59-.52 0-1.04.2-1.43.59L10.3 9.45l-7.72 7.72c-.78.78-.78 2.05 0 2.83L4 21.41c.39.39.9.59 1.41.59.51 0 1.02-.2 1.41-.59l7.78-7.78 2.81-2.81c.8-.78.8-2.07 0-2.86zM5.41 20L4 18.59l7.72-7.72 1.47 1.35L5.41 20z\"/>\n",
              "  </svg>\n",
              "      </button>\n",
              "      \n",
              "  <style>\n",
              "    .colab-df-container {\n",
              "      display:flex;\n",
              "      flex-wrap:wrap;\n",
              "      gap: 12px;\n",
              "    }\n",
              "\n",
              "    .colab-df-convert {\n",
              "      background-color: #E8F0FE;\n",
              "      border: none;\n",
              "      border-radius: 50%;\n",
              "      cursor: pointer;\n",
              "      display: none;\n",
              "      fill: #1967D2;\n",
              "      height: 32px;\n",
              "      padding: 0 0 0 0;\n",
              "      width: 32px;\n",
              "    }\n",
              "\n",
              "    .colab-df-convert:hover {\n",
              "      background-color: #E2EBFA;\n",
              "      box-shadow: 0px 1px 2px rgba(60, 64, 67, 0.3), 0px 1px 3px 1px rgba(60, 64, 67, 0.15);\n",
              "      fill: #174EA6;\n",
              "    }\n",
              "\n",
              "    [theme=dark] .colab-df-convert {\n",
              "      background-color: #3B4455;\n",
              "      fill: #D2E3FC;\n",
              "    }\n",
              "\n",
              "    [theme=dark] .colab-df-convert:hover {\n",
              "      background-color: #434B5C;\n",
              "      box-shadow: 0px 1px 3px 1px rgba(0, 0, 0, 0.15);\n",
              "      filter: drop-shadow(0px 1px 2px rgba(0, 0, 0, 0.3));\n",
              "      fill: #FFFFFF;\n",
              "    }\n",
              "  </style>\n",
              "\n",
              "      <script>\n",
              "        const buttonEl =\n",
              "          document.querySelector('#df-3cab73a3-c008-4f03-85d2-1e267a70219f button.colab-df-convert');\n",
              "        buttonEl.style.display =\n",
              "          google.colab.kernel.accessAllowed ? 'block' : 'none';\n",
              "\n",
              "        async function convertToInteractive(key) {\n",
              "          const element = document.querySelector('#df-3cab73a3-c008-4f03-85d2-1e267a70219f');\n",
              "          const dataTable =\n",
              "            await google.colab.kernel.invokeFunction('convertToInteractive',\n",
              "                                                     [key], {});\n",
              "          if (!dataTable) return;\n",
              "\n",
              "          const docLinkHtml = 'Like what you see? Visit the ' +\n",
              "            '<a target=\"_blank\" href=https://colab.research.google.com/notebooks/data_table.ipynb>data table notebook</a>'\n",
              "            + ' to learn more about interactive tables.';\n",
              "          element.innerHTML = '';\n",
              "          dataTable['output_type'] = 'display_data';\n",
              "          await google.colab.output.renderOutput(dataTable, element);\n",
              "          const docLink = document.createElement('div');\n",
              "          docLink.innerHTML = docLinkHtml;\n",
              "          element.appendChild(docLink);\n",
              "        }\n",
              "      </script>\n",
              "    </div>\n",
              "  </div>\n",
              "  "
            ]
          },
          "metadata": {},
          "execution_count": 63
        }
      ]
    },
    {
      "cell_type": "code",
      "source": [
        "print(\"The number of records: \"+ str(len(data['order_id'].unique())))"
      ],
      "metadata": {
        "colab": {
          "base_uri": "https://localhost:8080/"
        },
        "id": "YltnCugUY1mL",
        "outputId": "01796c84-51d9-42e5-c09c-d1d950055db5"
      },
      "execution_count": 20,
      "outputs": [
        {
          "output_type": "stream",
          "name": "stdout",
          "text": [
            "The number of records: 346860\n"
          ]
        }
      ]
    },
    {
      "cell_type": "code",
      "source": [
        "#numbers of concepts by id\n",
        "print(\"The number of concepts: \"+ str(len(data['skill_id'].unique())))\n",
        "#numbers of concepts by name\n",
        "print(\"The number of concepts: \"+ str(len(data['skill_name'].unique()))) #checked: some skills dont have name!"
      ],
      "metadata": {
        "colab": {
          "base_uri": "https://localhost:8080/"
        },
        "id": "HFbCPJWdboS8",
        "outputId": "b4f4aa42-365c-4c14-dcbd-be184f927fe5"
      },
      "execution_count": 64,
      "outputs": [
        {
          "output_type": "stream",
          "name": "stdout",
          "text": [
            "The number of concepts: 124\n",
            "The number of concepts: 111\n"
          ]
        }
      ]
    },
    {
      "cell_type": "code",
      "source": [
        "print('Part of missing values for every column')\n",
        "print(data.isnull().sum() / len(data))"
      ],
      "metadata": {
        "colab": {
          "base_uri": "https://localhost:8080/"
        },
        "id": "9BatlibjV4YT",
        "outputId": "7d38936c-6b08-404d-c5b6-468ac1b8a778"
      },
      "execution_count": 3,
      "outputs": [
        {
          "output_type": "stream",
          "name": "stdout",
          "text": [
            "Part of missing values for every column\n",
            "order_id                0.000000\n",
            "assignment_id           0.000000\n",
            "user_id                 0.000000\n",
            "assistment_id           0.000000\n",
            "problem_id              0.000000\n",
            "original                0.000000\n",
            "correct                 0.000000\n",
            "attempt_count           0.000000\n",
            "ms_first_response       0.000000\n",
            "tutor_mode              0.000000\n",
            "answer_type             0.000000\n",
            "sequence_id             0.000000\n",
            "student_class_id        0.000000\n",
            "position                0.000000\n",
            "type                    0.000000\n",
            "base_sequence_id        0.000000\n",
            "skill_id                0.158691\n",
            "skill_name              0.189466\n",
            "teacher_id              0.000000\n",
            "school_id               0.000000\n",
            "hint_count              0.000000\n",
            "hint_total              0.000000\n",
            "overlap_time            0.000000\n",
            "template_id             0.000000\n",
            "answer_id               0.886862\n",
            "answer_text             0.222045\n",
            "first_action            0.000000\n",
            "bottom_hint             0.833123\n",
            "opportunity             0.000000\n",
            "opportunity_original    0.182860\n",
            "dtype: float64\n"
          ]
        }
      ]
    },
    {
      "cell_type": "code",
      "source": [
        "#delete records without named concepts\n",
        "data = data.dropna(axis=0, subset=['skill_name'])"
      ],
      "metadata": {
        "id": "PxqOvp1WaMiC"
      },
      "execution_count": 65,
      "outputs": []
    },
    {
      "cell_type": "code",
      "source": [
        "#numbers of concepts by id\n",
        "print(\"The number of concepts: \"+ str(len(data['skill_id'].unique())))\n",
        "#numbers of concepts by name\n",
        "print(\"The number of concepts: \"+ str(len(data['skill_name'].unique())))"
      ],
      "metadata": {
        "colab": {
          "base_uri": "https://localhost:8080/"
        },
        "id": "AQ6gjHBEo98y",
        "outputId": "b91b3729-5749-4d12-b37d-1f3d2217b34e"
      },
      "execution_count": 66,
      "outputs": [
        {
          "output_type": "stream",
          "name": "stdout",
          "text": [
            "The number of concepts: 111\n",
            "The number of concepts: 110\n"
          ]
        }
      ]
    },
    {
      "cell_type": "code",
      "source": [
        "data=data.reset_index(drop=True)"
      ],
      "metadata": {
        "id": "a97UEA6rdKu-"
      },
      "execution_count": 6,
      "outputs": []
    },
    {
      "cell_type": "code",
      "source": [
        "#delete records without named concepts\n",
        "data = data.dropna(axis=0, subset=['skill_id'])"
      ],
      "metadata": {
        "id": "M9gNbEduVTkw"
      },
      "execution_count": 67,
      "outputs": []
    },
    {
      "cell_type": "code",
      "source": [
        "#numbers of concepts by id\n",
        "print(\"The number of concepts: \"+ str(len(data['skill_id'].unique())))\n",
        "#numbers of concepts by name\n",
        "print(\"The number of concepts: \"+ str(len(data['skill_name'].unique())))"
      ],
      "metadata": {
        "colab": {
          "base_uri": "https://localhost:8080/"
        },
        "id": "9V9YDrgRVrEC",
        "outputId": "8aed625b-6b4f-4e4b-9e36-8148d68d6717"
      },
      "execution_count": 68,
      "outputs": [
        {
          "output_type": "stream",
          "name": "stdout",
          "text": [
            "The number of concepts: 111\n",
            "The number of concepts: 110\n"
          ]
        }
      ]
    },
    {
      "cell_type": "code",
      "source": [
        "data['skill_id'].unique()"
      ],
      "metadata": {
        "colab": {
          "base_uri": "https://localhost:8080/"
        },
        "id": "Zw5foY-7Ybqa",
        "outputId": "9e55faad-cf3d-476e-e84c-6dd449d58b4d"
      },
      "execution_count": 69,
      "outputs": [
        {
          "output_type": "execute_result",
          "data": {
            "text/plain": [
              "array([  1.,   2.,   4.,   5.,   8.,   9.,  10.,  11.,  12.,  13.,  14.,\n",
              "        15.,  16.,  17.,  18.,  21.,  22.,  24.,  25.,  26.,  27.,  32.,\n",
              "        34.,  35.,  39.,  40.,  42.,  43.,  46.,  47.,  48.,  49.,  50.,\n",
              "        51.,  53.,  54.,  58.,  61.,  63.,  64.,  65.,  67.,  69.,  70.,\n",
              "        74.,  75.,  77.,  79.,  80.,  81.,  82.,  83.,  84.,  85.,  86.,\n",
              "        92., 110., 163., 165., 166., 173., 190., 193., 203., 204., 217.,\n",
              "       221., 276., 277., 278., 279., 280., 290., 292., 293., 294., 295.,\n",
              "       296., 297., 298., 299., 301., 303., 307., 308., 309., 310., 311.,\n",
              "       312., 314., 317., 321., 322., 323., 324., 325., 331., 333., 334.,\n",
              "       340., 343., 346., 348., 350., 356., 362., 365., 368., 371., 375.,\n",
              "       378.])"
            ]
          },
          "metadata": {},
          "execution_count": 69
        }
      ]
    },
    {
      "cell_type": "code",
      "source": [
        "data['skill_name'].unique()"
      ],
      "metadata": {
        "colab": {
          "base_uri": "https://localhost:8080/"
        },
        "id": "m1lJjBheWAs0",
        "outputId": "5b34c5e4-ddd4-4d90-dd03-c6ada6e64d7c"
      },
      "execution_count": 70,
      "outputs": [
        {
          "output_type": "execute_result",
          "data": {
            "text/plain": [
              "array(['Box and Whisker', 'Circle Graph', 'Histogram as Table or Graph',\n",
              "       'Number Line', 'Scatter Plot', 'Stem and Leaf Plot', 'Table',\n",
              "       'Venn Diagram', 'Mean', 'Median', 'Mode', 'Range',\n",
              "       'Counting Methods', 'Probability of Two Distinct Events',\n",
              "       'Probability of a Single Event',\n",
              "       'Interior Angles Figures with More than 3 Sides',\n",
              "       'Interior Angles Triangle', 'Congruence',\n",
              "       'Complementary and Supplementary Angles',\n",
              "       'Angles on Parallel Lines Cut by a Transversal',\n",
              "       'Pythagorean Theorem', 'Nets of 3D Figures',\n",
              "       'Unit Conversion Within a System',\n",
              "       'Effect of Changing Dimensions of a Shape Prportionally',\n",
              "       'Area Circle', 'Circumference ', 'Perimeter of a Polygon',\n",
              "       'Reading a Ruler or Scale', 'Calculations with Similar Figures',\n",
              "       'Conversion of Fraction Decimals Percents', 'Equivalent Fractions',\n",
              "       'Ordering Positive Decimals', 'Ordering Fractions',\n",
              "       'Ordering Integers', 'Ordering Real Numbers', 'Rounding',\n",
              "       'Addition Whole Numbers', 'Division Fractions', 'Estimation',\n",
              "       'Fraction Of', 'Least Common Multiple', 'Multiplication Fractions',\n",
              "       'Multiplication Whole Numbers', 'Percent Of',\n",
              "       'Subtraction Whole Numbers', 'Square Root', 'Finding Percents',\n",
              "       'Proportion', 'Scale Factor', 'Unit Rate', 'Scientific Notation',\n",
              "       'Divisibility Rules', 'Prime Number', 'Absolute Value',\n",
              "       'Exponents', 'Pattern Finding ',\n",
              "       'D.4.8-understanding-concept-of-probabilities',\n",
              "       'Algebraic Simplification', 'Algebraic Solving',\n",
              "       'Choose an Equation from Given Information', 'Intercept',\n",
              "       'Linear Equations', 'Percent Discount', 'Percents', 'Rate',\n",
              "       'Slope', 'Multiplication and Division Positive Decimals',\n",
              "       'Addition and Subtraction Integers',\n",
              "       'Addition and Subtraction Positive Decimals',\n",
              "       'Multiplication and Division Integers',\n",
              "       'Addition and Subtraction Fractions', 'Reflection', 'Rotations',\n",
              "       'Translations', 'Area Irregular Figure', 'Area Parallelogram',\n",
              "       'Area Rectangle', 'Area Trapezoid', 'Area Triangle',\n",
              "       'Surface Area Cylinder', 'Surface Area Rectangular Prism',\n",
              "       'Volume Cylinder', 'Volume Rectangular Prism', 'Volume Sphere',\n",
              "       'Order of Operations +,-,/,* () positive reals',\n",
              "       'Order of Operations All', 'Equation Solving Two or Fewer Steps',\n",
              "       'Equation Solving More Than Two Steps',\n",
              "       'Angles - Obtuse, Acute, and Right', 'Greatest Common Factor',\n",
              "       'Computation with Real Numbers',\n",
              "       'Write Linear Equation from Ordered Pairs',\n",
              "       'Write Linear Equation from Situation', 'Recognize Linear Pattern',\n",
              "       'Write Linear Equation from Graph', 'Finding Slope From Situation',\n",
              "       'Finding Slope From Equation', 'Finding Slope from Ordered Pairs',\n",
              "       'Distributive Property', 'Midpoint', 'Polynomial Factors',\n",
              "       'Recognize Quadratic Pattern',\n",
              "       'Solving Systems of Linear Equations',\n",
              "       'Quadratic Formula to Solve Quadratic Equation',\n",
              "       'Parts of a Polyomial, Terms, Coefficient, Monomial, Exponent, Variable',\n",
              "       'Interpreting Coordinate Graphs ', 'Solving for a variable',\n",
              "       'Simplifying Expressions positive exponents',\n",
              "       'Solving Inequalities',\n",
              "       'Solving Systems of Linear Equations by Graphing'], dtype=object)"
            ]
          },
          "metadata": {},
          "execution_count": 70
        }
      ]
    },
    {
      "cell_type": "code",
      "source": [
        "data['skill_id'].unique()"
      ],
      "metadata": {
        "colab": {
          "base_uri": "https://localhost:8080/"
        },
        "id": "IFXx4GJjdVyN",
        "outputId": "58d2ff22-aeb1-4208-a9e9-ebcb9566f106"
      },
      "execution_count": 23,
      "outputs": [
        {
          "output_type": "execute_result",
          "data": {
            "text/plain": [
              "array([  1.,   2.,   4.,   5.,   8.,   9.,  10.,  11.,  12.,  13.,  14.,\n",
              "        15.,  16.,  17.,  18.,  21.,  22.,  24.,  25.,  26.,  27.,  32.,\n",
              "        34.,  35.,  39.,  40.,  42.,  43.,  46.,  47.,  48.,  49.,  50.,\n",
              "        51.,  53.,  54.,  58.,  61.,  63.,  64.,  65.,  67.,  69.,  70.,\n",
              "        74.,  75.,  77.,  79.,  80.,  81.,  82.,  83.,  84.,  85.,  86.,\n",
              "        92., 110., 163., 165., 166., 173., 190., 193., 203., 204., 217.,\n",
              "       221., 276., 277., 278., 279., 280., 290., 292., 293., 294., 295.,\n",
              "       296., 297., 298., 299., 301., 303., 307., 308., 309., 310., 311.,\n",
              "       312., 314., 317., 321., 322., 323., 324., 325., 331., 333., 334.,\n",
              "       340., 343., 346., 348., 350., 356., 362., 365., 368., 371., 375.,\n",
              "       378.])"
            ]
          },
          "metadata": {},
          "execution_count": 23
        }
      ]
    },
    {
      "cell_type": "code",
      "source": [
        "arr = data['skill_id'].unique()"
      ],
      "metadata": {
        "id": "8fto5cdmdg26"
      },
      "execution_count": 27,
      "outputs": []
    },
    {
      "cell_type": "code",
      "source": [
        "arr"
      ],
      "metadata": {
        "colab": {
          "base_uri": "https://localhost:8080/"
        },
        "id": "oc_RnXQsdiuE",
        "outputId": "cba20251-12c8-4ddf-c1fe-c2e553c1969a"
      },
      "execution_count": 28,
      "outputs": [
        {
          "output_type": "execute_result",
          "data": {
            "text/plain": [
              "array([  1.,   2.,   4.,   5.,   8.,   9.,  10.,  11.,  12.,  13.,  14.,\n",
              "        15.,  16.,  17.,  18.,  21.,  22.,  24.,  25.,  26.,  27.,  32.,\n",
              "        34.,  35.,  39.,  40.,  42.,  43.,  46.,  47.,  48.,  49.,  50.,\n",
              "        51.,  53.,  54.,  58.,  61.,  63.,  64.,  65.,  67.,  69.,  70.,\n",
              "        74.,  75.,  77.,  79.,  80.,  81.,  82.,  83.,  84.,  85.,  86.,\n",
              "        92., 110., 163., 165., 166., 173., 190., 193., 203., 204., 217.,\n",
              "       221., 276., 277., 278., 279., 280., 290., 292., 293., 294., 295.,\n",
              "       296., 297., 298., 299., 301., 303., 307., 308., 309., 310., 311.,\n",
              "       312., 314., 317., 321., 322., 323., 324., 325., 331., 333., 334.,\n",
              "       340., 343., 346., 348., 350., 356., 362., 365., 368., 371., 375.,\n",
              "       378.])"
            ]
          },
          "metadata": {},
          "execution_count": 28
        }
      ]
    },
    {
      "cell_type": "code",
      "source": [
        "arrname = data['skill_name'].unique()"
      ],
      "metadata": {
        "id": "nLKWNGY5fXxE"
      },
      "execution_count": 32,
      "outputs": []
    },
    {
      "cell_type": "code",
      "source": [
        "arrname"
      ],
      "metadata": {
        "colab": {
          "base_uri": "https://localhost:8080/"
        },
        "id": "aH364DvXfasH",
        "outputId": "7d382280-6119-4e2e-9d93-e26fff5e9551"
      },
      "execution_count": 33,
      "outputs": [
        {
          "output_type": "execute_result",
          "data": {
            "text/plain": [
              "array(['Box and Whisker', 'Circle Graph', 'Histogram as Table or Graph',\n",
              "       'Number Line', 'Scatter Plot', 'Stem and Leaf Plot', 'Table',\n",
              "       'Venn Diagram', 'Mean', 'Median', 'Mode', 'Range',\n",
              "       'Counting Methods', 'Probability of Two Distinct Events',\n",
              "       'Probability of a Single Event',\n",
              "       'Interior Angles Figures with More than 3 Sides',\n",
              "       'Interior Angles Triangle', 'Congruence',\n",
              "       'Complementary and Supplementary Angles',\n",
              "       'Angles on Parallel Lines Cut by a Transversal',\n",
              "       'Pythagorean Theorem', 'Nets of 3D Figures',\n",
              "       'Unit Conversion Within a System',\n",
              "       'Effect of Changing Dimensions of a Shape Prportionally',\n",
              "       'Area Circle', 'Circumference ', 'Perimeter of a Polygon',\n",
              "       'Reading a Ruler or Scale', 'Calculations with Similar Figures',\n",
              "       'Conversion of Fraction Decimals Percents', 'Equivalent Fractions',\n",
              "       'Ordering Positive Decimals', 'Ordering Fractions',\n",
              "       'Ordering Integers', 'Ordering Real Numbers', 'Rounding',\n",
              "       'Addition Whole Numbers', 'Division Fractions', 'Estimation',\n",
              "       'Fraction Of', 'Least Common Multiple', 'Multiplication Fractions',\n",
              "       'Multiplication Whole Numbers', 'Percent Of',\n",
              "       'Subtraction Whole Numbers', 'Square Root', 'Finding Percents',\n",
              "       'Proportion', 'Scale Factor', 'Unit Rate', 'Scientific Notation',\n",
              "       'Divisibility Rules', 'Prime Number', 'Absolute Value',\n",
              "       'Exponents', 'Pattern Finding ',\n",
              "       'D.4.8-understanding-concept-of-probabilities',\n",
              "       'Algebraic Simplification', 'Algebraic Solving',\n",
              "       'Choose an Equation from Given Information', 'Intercept',\n",
              "       'Linear Equations', 'Percent Discount', 'Percents', 'Rate',\n",
              "       'Slope', 'Multiplication and Division Positive Decimals',\n",
              "       'Addition and Subtraction Integers',\n",
              "       'Addition and Subtraction Positive Decimals',\n",
              "       'Multiplication and Division Integers',\n",
              "       'Addition and Subtraction Fractions', 'Reflection', 'Rotations',\n",
              "       'Translations', 'Area Irregular Figure', 'Area Parallelogram',\n",
              "       'Area Rectangle', 'Area Trapezoid', 'Area Triangle',\n",
              "       'Surface Area Cylinder', 'Surface Area Rectangular Prism',\n",
              "       'Volume Cylinder', 'Volume Rectangular Prism', 'Volume Sphere',\n",
              "       'Order of Operations +,-,/,* () positive reals',\n",
              "       'Order of Operations All', 'Equation Solving Two or Fewer Steps',\n",
              "       'Equation Solving More Than Two Steps',\n",
              "       'Angles - Obtuse, Acute, and Right', 'Greatest Common Factor',\n",
              "       'Computation with Real Numbers',\n",
              "       'Write Linear Equation from Ordered Pairs',\n",
              "       'Write Linear Equation from Situation', 'Recognize Linear Pattern',\n",
              "       'Write Linear Equation from Graph', 'Finding Slope From Situation',\n",
              "       'Finding Slope From Equation', 'Finding Slope from Ordered Pairs',\n",
              "       'Distributive Property', 'Midpoint', 'Polynomial Factors',\n",
              "       'Recognize Quadratic Pattern',\n",
              "       'Solving Systems of Linear Equations',\n",
              "       'Quadratic Formula to Solve Quadratic Equation',\n",
              "       'Parts of a Polyomial, Terms, Coefficient, Monomial, Exponent, Variable',\n",
              "       'Interpreting Coordinate Graphs ', 'Solving for a variable',\n",
              "       'Simplifying Expressions positive exponents',\n",
              "       'Solving Inequalities',\n",
              "       'Solving Systems of Linear Equations by Graphing'], dtype=object)"
            ]
          },
          "metadata": {},
          "execution_count": 33
        }
      ]
    },
    {
      "cell_type": "code",
      "source": [
        "#numbers of concepts by id\n",
        "print(\"The number of concepts: \"+ str(len(data['skill_id'].unique())))\n",
        "#numbers of concepts by name\n",
        "print(\"The number of concepts: \"+ str(len(data['skill_name'].unique())))"
      ],
      "metadata": {
        "colab": {
          "base_uri": "https://localhost:8080/"
        },
        "id": "sQhJCAnEgOeb",
        "outputId": "14bae881-8bf0-4580-9cca-719d17bcba7a"
      },
      "execution_count": 36,
      "outputs": [
        {
          "output_type": "stream",
          "name": "stdout",
          "text": [
            "The number of concepts: 111\n",
            "The number of concepts: 110\n"
          ]
        }
      ]
    },
    {
      "cell_type": "code",
      "source": [
        "count=0\n",
        "flag=0\n",
        "for i in arr:\n",
        "  count += 1\n",
        "  df = data.loc[data['skill_id']==i]\n",
        "  print(f\"number {i} for label {df['skill_name'].unique()}\")\n",
        "  if df['skill_name'].unique() not in arrname:\n",
        "    flag=1\n",
        "    extra = df['skill_name'].unique()\n",
        "\n",
        "# 1.,   2.,   4.,   5.,   8.,   9.,  10.,  11.,  12.,  13.,  14.,\n",
        "      #   15.,  16.,  17.,  18.,  21.,  22.,  24.,  25.,  26.,  27.,  32.,\n",
        "      #   34.,  35.,  39.,  40.,  42.,  43.,  46.,  47.,  48.,  49.,  50.,\n",
        "      #   51.,  53.,  54.,  58.,  61.,  63.,  64.,  65.,  67.,  69.,  70.,\n",
        "      #   74.,  75.,  77.,  79.,  80.,  81.,  82.,  83.,  84.,  85.,  86.,\n",
        "      #   92., 110., 163., 165., 166., 173., 190., 193., 203., 204., 217.,\n",
        "      #  221., 276., 277., 278., 279., 280., 290., 292., 293., 294., 295.,\n",
        "      #  296., 297., 298., 299., 301., 303., 307., 308., 309., 310., 311.,\n",
        "      #  312., 314., 317., 321., 322., 323., 324., 325., 331., 333., 334.,\n",
        "      #  340., 343., 346., 348., 350., 356., 362., 365., 368., 371., 375.,\n",
        "      #  378."
      ],
      "metadata": {
        "colab": {
          "base_uri": "https://localhost:8080/"
        },
        "id": "HigHCgftYz47",
        "outputId": "07dbc21a-3008-4807-bea3-880ad3cbf90f"
      },
      "execution_count": 37,
      "outputs": [
        {
          "output_type": "stream",
          "name": "stdout",
          "text": [
            "number 1.0 for label ['Box and Whisker']\n",
            "number 2.0 for label ['Circle Graph']\n",
            "number 4.0 for label ['Histogram as Table or Graph']\n",
            "number 5.0 for label ['Number Line']\n",
            "number 8.0 for label ['Scatter Plot']\n",
            "number 9.0 for label ['Stem and Leaf Plot']\n",
            "number 10.0 for label ['Table']\n",
            "number 11.0 for label ['Venn Diagram']\n",
            "number 12.0 for label ['Mean']\n",
            "number 13.0 for label ['Median']\n",
            "number 14.0 for label ['Mode']\n",
            "number 15.0 for label ['Range']\n",
            "number 16.0 for label ['Counting Methods']\n",
            "number 17.0 for label ['Probability of Two Distinct Events']\n",
            "number 18.0 for label ['Probability of a Single Event']\n",
            "number 21.0 for label ['Interior Angles Figures with More than 3 Sides']\n",
            "number 22.0 for label ['Interior Angles Triangle']\n",
            "number 24.0 for label ['Congruence']\n",
            "number 25.0 for label ['Complementary and Supplementary Angles']\n",
            "number 26.0 for label ['Angles on Parallel Lines Cut by a Transversal']\n",
            "number 27.0 for label ['Pythagorean Theorem']\n",
            "number 32.0 for label ['Nets of 3D Figures']\n",
            "number 34.0 for label ['Unit Conversion Within a System']\n",
            "number 35.0 for label ['Effect of Changing Dimensions of a Shape Prportionally']\n",
            "number 39.0 for label ['Area Circle']\n",
            "number 40.0 for label ['Circumference ']\n",
            "number 42.0 for label ['Perimeter of a Polygon']\n",
            "number 43.0 for label ['Reading a Ruler or Scale']\n",
            "number 46.0 for label ['Calculations with Similar Figures']\n",
            "number 47.0 for label ['Conversion of Fraction Decimals Percents']\n",
            "number 48.0 for label ['Equivalent Fractions']\n",
            "number 49.0 for label ['Ordering Positive Decimals']\n",
            "number 50.0 for label ['Ordering Fractions']\n",
            "number 51.0 for label ['Ordering Integers']\n",
            "number 53.0 for label ['Ordering Real Numbers']\n",
            "number 54.0 for label ['Rounding']\n",
            "number 58.0 for label ['Addition Whole Numbers']\n",
            "number 61.0 for label ['Division Fractions']\n",
            "number 63.0 for label ['Estimation']\n",
            "number 64.0 for label ['Fraction Of']\n",
            "number 65.0 for label ['Least Common Multiple']\n",
            "number 67.0 for label ['Multiplication Fractions']\n",
            "number 69.0 for label ['Multiplication Whole Numbers']\n",
            "number 70.0 for label ['Percent Of']\n",
            "number 74.0 for label ['Subtraction Whole Numbers']\n",
            "number 75.0 for label ['Square Root']\n",
            "number 77.0 for label ['Finding Percents']\n",
            "number 79.0 for label ['Proportion']\n",
            "number 80.0 for label ['Scale Factor']\n",
            "number 81.0 for label ['Unit Rate']\n",
            "number 82.0 for label ['Scientific Notation']\n",
            "number 83.0 for label ['Divisibility Rules']\n",
            "number 84.0 for label ['Prime Number']\n",
            "number 85.0 for label ['Absolute Value']\n",
            "number 86.0 for label ['Exponents']\n",
            "number 92.0 for label ['Pattern Finding ']\n",
            "number 110.0 for label ['D.4.8-understanding-concept-of-probabilities']\n",
            "number 163.0 for label ['Absolute Value']\n",
            "number 165.0 for label ['Algebraic Simplification']\n",
            "number 166.0 for label ['Algebraic Solving']\n",
            "number 173.0 for label ['Choose an Equation from Given Information']\n",
            "number 190.0 for label ['Intercept']\n",
            "number 193.0 for label ['Linear Equations']\n",
            "number 203.0 for label ['Percent Discount']\n",
            "number 204.0 for label ['Percents']\n",
            "number 217.0 for label ['Rate']\n",
            "number 221.0 for label ['Slope']\n",
            "number 276.0 for label ['Multiplication and Division Positive Decimals']\n",
            "number 277.0 for label ['Addition and Subtraction Integers']\n",
            "number 278.0 for label ['Addition and Subtraction Positive Decimals']\n",
            "number 279.0 for label ['Multiplication and Division Integers']\n",
            "number 280.0 for label ['Addition and Subtraction Fractions']\n",
            "number 290.0 for label ['Reflection']\n",
            "number 292.0 for label ['Rotations']\n",
            "number 293.0 for label ['Translations']\n",
            "number 294.0 for label ['Area Irregular Figure']\n",
            "number 295.0 for label ['Area Parallelogram']\n",
            "number 296.0 for label ['Area Rectangle']\n",
            "number 297.0 for label ['Area Trapezoid']\n",
            "number 298.0 for label ['Area Triangle']\n",
            "number 299.0 for label ['Surface Area Cylinder']\n",
            "number 301.0 for label ['Surface Area Rectangular Prism']\n",
            "number 303.0 for label ['Volume Cylinder']\n",
            "number 307.0 for label ['Volume Rectangular Prism']\n",
            "number 308.0 for label ['Volume Sphere']\n",
            "number 309.0 for label ['Order of Operations +,-,/,* () positive reals']\n",
            "number 310.0 for label ['Order of Operations All']\n",
            "number 311.0 for label ['Equation Solving Two or Fewer Steps']\n",
            "number 312.0 for label ['Equation Solving More Than Two Steps']\n",
            "number 314.0 for label ['Angles - Obtuse, Acute, and Right']\n",
            "number 317.0 for label ['Greatest Common Factor']\n",
            "number 321.0 for label ['Computation with Real Numbers']\n",
            "number 322.0 for label ['Write Linear Equation from Ordered Pairs']\n",
            "number 323.0 for label ['Write Linear Equation from Situation']\n",
            "number 324.0 for label ['Recognize Linear Pattern']\n",
            "number 325.0 for label ['Write Linear Equation from Graph']\n",
            "number 331.0 for label ['Finding Slope From Situation']\n",
            "number 333.0 for label ['Finding Slope From Equation']\n",
            "number 334.0 for label ['Finding Slope from Ordered Pairs']\n",
            "number 340.0 for label ['Distributive Property']\n",
            "number 343.0 for label ['Midpoint']\n",
            "number 346.0 for label ['Polynomial Factors']\n",
            "number 348.0 for label ['Recognize Quadratic Pattern']\n",
            "number 350.0 for label ['Solving Systems of Linear Equations']\n",
            "number 356.0 for label ['Quadratic Formula to Solve Quadratic Equation']\n",
            "number 362.0 for label ['Parts of a Polyomial, Terms, Coefficient, Monomial, Exponent, Variable']\n",
            "number 365.0 for label ['Interpreting Coordinate Graphs ']\n",
            "number 368.0 for label ['Solving for a variable']\n",
            "number 371.0 for label ['Simplifying Expressions positive exponents']\n",
            "number 375.0 for label ['Solving Inequalities']\n",
            "number 378.0 for label ['Solving Systems of Linear Equations by Graphing']\n"
          ]
        }
      ]
    },
    {
      "cell_type": "code",
      "source": [
        "my_dict = {}\n",
        "for i in arrname:\n",
        "  my_dict[i] = 0\n",
        "my_dict"
      ],
      "metadata": {
        "colab": {
          "base_uri": "https://localhost:8080/"
        },
        "id": "NsAivVmNjUuy",
        "outputId": "0f70673d-fda9-4134-c146-b01e6f094559"
      },
      "execution_count": 40,
      "outputs": [
        {
          "output_type": "execute_result",
          "data": {
            "text/plain": [
              "{'Box and Whisker': 0,\n",
              " 'Circle Graph': 0,\n",
              " 'Histogram as Table or Graph': 0,\n",
              " 'Number Line': 0,\n",
              " 'Scatter Plot': 0,\n",
              " 'Stem and Leaf Plot': 0,\n",
              " 'Table': 0,\n",
              " 'Venn Diagram': 0,\n",
              " 'Mean': 0,\n",
              " 'Median': 0,\n",
              " 'Mode': 0,\n",
              " 'Range': 0,\n",
              " 'Counting Methods': 0,\n",
              " 'Probability of Two Distinct Events': 0,\n",
              " 'Probability of a Single Event': 0,\n",
              " 'Interior Angles Figures with More than 3 Sides': 0,\n",
              " 'Interior Angles Triangle': 0,\n",
              " 'Congruence': 0,\n",
              " 'Complementary and Supplementary Angles': 0,\n",
              " 'Angles on Parallel Lines Cut by a Transversal': 0,\n",
              " 'Pythagorean Theorem': 0,\n",
              " 'Nets of 3D Figures': 0,\n",
              " 'Unit Conversion Within a System': 0,\n",
              " 'Effect of Changing Dimensions of a Shape Prportionally': 0,\n",
              " 'Area Circle': 0,\n",
              " 'Circumference ': 0,\n",
              " 'Perimeter of a Polygon': 0,\n",
              " 'Reading a Ruler or Scale': 0,\n",
              " 'Calculations with Similar Figures': 0,\n",
              " 'Conversion of Fraction Decimals Percents': 0,\n",
              " 'Equivalent Fractions': 0,\n",
              " 'Ordering Positive Decimals': 0,\n",
              " 'Ordering Fractions': 0,\n",
              " 'Ordering Integers': 0,\n",
              " 'Ordering Real Numbers': 0,\n",
              " 'Rounding': 0,\n",
              " 'Addition Whole Numbers': 0,\n",
              " 'Division Fractions': 0,\n",
              " 'Estimation': 0,\n",
              " 'Fraction Of': 0,\n",
              " 'Least Common Multiple': 0,\n",
              " 'Multiplication Fractions': 0,\n",
              " 'Multiplication Whole Numbers': 0,\n",
              " 'Percent Of': 0,\n",
              " 'Subtraction Whole Numbers': 0,\n",
              " 'Square Root': 0,\n",
              " 'Finding Percents': 0,\n",
              " 'Proportion': 0,\n",
              " 'Scale Factor': 0,\n",
              " 'Unit Rate': 0,\n",
              " 'Scientific Notation': 0,\n",
              " 'Divisibility Rules': 0,\n",
              " 'Prime Number': 0,\n",
              " 'Absolute Value': 0,\n",
              " 'Exponents': 0,\n",
              " 'Pattern Finding ': 0,\n",
              " 'D.4.8-understanding-concept-of-probabilities': 0,\n",
              " 'Algebraic Simplification': 0,\n",
              " 'Algebraic Solving': 0,\n",
              " 'Choose an Equation from Given Information': 0,\n",
              " 'Intercept': 0,\n",
              " 'Linear Equations': 0,\n",
              " 'Percent Discount': 0,\n",
              " 'Percents': 0,\n",
              " 'Rate': 0,\n",
              " 'Slope': 0,\n",
              " 'Multiplication and Division Positive Decimals': 0,\n",
              " 'Addition and Subtraction Integers': 0,\n",
              " 'Addition and Subtraction Positive Decimals': 0,\n",
              " 'Multiplication and Division Integers': 0,\n",
              " 'Addition and Subtraction Fractions': 0,\n",
              " 'Reflection': 0,\n",
              " 'Rotations': 0,\n",
              " 'Translations': 0,\n",
              " 'Area Irregular Figure': 0,\n",
              " 'Area Parallelogram': 0,\n",
              " 'Area Rectangle': 0,\n",
              " 'Area Trapezoid': 0,\n",
              " 'Area Triangle': 0,\n",
              " 'Surface Area Cylinder': 0,\n",
              " 'Surface Area Rectangular Prism': 0,\n",
              " 'Volume Cylinder': 0,\n",
              " 'Volume Rectangular Prism': 0,\n",
              " 'Volume Sphere': 0,\n",
              " 'Order of Operations +,-,/,* () positive reals': 0,\n",
              " 'Order of Operations All': 0,\n",
              " 'Equation Solving Two or Fewer Steps': 0,\n",
              " 'Equation Solving More Than Two Steps': 0,\n",
              " 'Angles - Obtuse, Acute, and Right': 0,\n",
              " 'Greatest Common Factor': 0,\n",
              " 'Computation with Real Numbers': 0,\n",
              " 'Write Linear Equation from Ordered Pairs': 0,\n",
              " 'Write Linear Equation from Situation': 0,\n",
              " 'Recognize Linear Pattern': 0,\n",
              " 'Write Linear Equation from Graph': 0,\n",
              " 'Finding Slope From Situation': 0,\n",
              " 'Finding Slope From Equation': 0,\n",
              " 'Finding Slope from Ordered Pairs': 0,\n",
              " 'Distributive Property': 0,\n",
              " 'Midpoint': 0,\n",
              " 'Polynomial Factors': 0,\n",
              " 'Recognize Quadratic Pattern': 0,\n",
              " 'Solving Systems of Linear Equations': 0,\n",
              " 'Quadratic Formula to Solve Quadratic Equation': 0,\n",
              " 'Parts of a Polyomial, Terms, Coefficient, Monomial, Exponent, Variable': 0,\n",
              " 'Interpreting Coordinate Graphs ': 0,\n",
              " 'Solving for a variable': 0,\n",
              " 'Simplifying Expressions positive exponents': 0,\n",
              " 'Solving Inequalities': 0,\n",
              " 'Solving Systems of Linear Equations by Graphing': 0}"
            ]
          },
          "metadata": {},
          "execution_count": 40
        }
      ]
    },
    {
      "cell_type": "code",
      "source": [
        "my_dict['Solving Systems of Linear Equations by Graphing']"
      ],
      "metadata": {
        "colab": {
          "base_uri": "https://localhost:8080/"
        },
        "id": "JxZwT7jhkCPo",
        "outputId": "55c85bf8-85e1-415d-e776-20820be59fab"
      },
      "execution_count": 41,
      "outputs": [
        {
          "output_type": "execute_result",
          "data": {
            "text/plain": [
              "0"
            ]
          },
          "metadata": {},
          "execution_count": 41
        }
      ]
    },
    {
      "cell_type": "code",
      "source": [
        "df = data.loc[data['skill_id']==1]"
      ],
      "metadata": {
        "id": "Xu9rx4SzmnH3"
      },
      "execution_count": 47,
      "outputs": []
    },
    {
      "cell_type": "code",
      "source": [
        "temp = df['skill_name'].unique()\n",
        "temp\n"
      ],
      "metadata": {
        "colab": {
          "base_uri": "https://localhost:8080/"
        },
        "id": "SQ7tlrwpmqT6",
        "outputId": "a3b4bee5-9dae-4c29-afde-749d55db50b1"
      },
      "execution_count": 51,
      "outputs": [
        {
          "output_type": "execute_result",
          "data": {
            "text/plain": [
              "array(['Box and Whisker'], dtype=object)"
            ]
          },
          "metadata": {},
          "execution_count": 51
        }
      ]
    },
    {
      "cell_type": "code",
      "source": [],
      "metadata": {
        "colab": {
          "base_uri": "https://localhost:8080/",
          "height": 35
        },
        "id": "3wdCVlPam6Os",
        "outputId": "42088d41-72a1-48f2-c0a7-bb60703643c8"
      },
      "execution_count": 53,
      "outputs": [
        {
          "output_type": "execute_result",
          "data": {
            "text/plain": [
              "'Box and Whisker'"
            ],
            "application/vnd.google.colaboratory.intrinsic+json": {
              "type": "string"
            }
          },
          "metadata": {},
          "execution_count": 53
        }
      ]
    },
    {
      "cell_type": "code",
      "source": [
        "my_dict[temp[0]]"
      ],
      "metadata": {
        "colab": {
          "base_uri": "https://localhost:8080/"
        },
        "id": "8q5H9cRImzgL",
        "outputId": "10da4461-3912-4e93-85ec-acedfa88ca0a"
      },
      "execution_count": 54,
      "outputs": [
        {
          "output_type": "execute_result",
          "data": {
            "text/plain": [
              "0"
            ]
          },
          "metadata": {},
          "execution_count": 54
        }
      ]
    },
    {
      "cell_type": "code",
      "source": [
        "flag=0\n",
        "for i in arr:\n",
        "  df = data.loc[data['skill_id']==i] #拿出所有skill_id = 1 的records\n",
        "  temp = df['skill_name'].unique()\n",
        "  if my_dict[temp[0]] == 0 :\n",
        "    my_dict[temp[0]] = 1\n",
        "  else:\n",
        "    flag=1\n",
        "    my_dict[temp[0]] = 2\n",
        "flag    "
      ],
      "metadata": {
        "colab": {
          "base_uri": "https://localhost:8080/"
        },
        "id": "oYHyRLrnj0Yd",
        "outputId": "14510dfe-83f3-4cd0-c35b-18007b10ea60"
      },
      "execution_count": 55,
      "outputs": [
        {
          "output_type": "execute_result",
          "data": {
            "text/plain": [
              "1"
            ]
          },
          "metadata": {},
          "execution_count": 55
        }
      ]
    },
    {
      "cell_type": "code",
      "source": [
        "my_dict"
      ],
      "metadata": {
        "colab": {
          "base_uri": "https://localhost:8080/"
        },
        "id": "5pG-deRSnA_a",
        "outputId": "c9c0f0bf-c56e-40b9-c148-4f6f1ee437fb"
      },
      "execution_count": 56,
      "outputs": [
        {
          "output_type": "execute_result",
          "data": {
            "text/plain": [
              "{'Box and Whisker': 1,\n",
              " 'Circle Graph': 1,\n",
              " 'Histogram as Table or Graph': 1,\n",
              " 'Number Line': 1,\n",
              " 'Scatter Plot': 1,\n",
              " 'Stem and Leaf Plot': 1,\n",
              " 'Table': 1,\n",
              " 'Venn Diagram': 1,\n",
              " 'Mean': 1,\n",
              " 'Median': 1,\n",
              " 'Mode': 1,\n",
              " 'Range': 1,\n",
              " 'Counting Methods': 1,\n",
              " 'Probability of Two Distinct Events': 1,\n",
              " 'Probability of a Single Event': 1,\n",
              " 'Interior Angles Figures with More than 3 Sides': 1,\n",
              " 'Interior Angles Triangle': 1,\n",
              " 'Congruence': 1,\n",
              " 'Complementary and Supplementary Angles': 1,\n",
              " 'Angles on Parallel Lines Cut by a Transversal': 1,\n",
              " 'Pythagorean Theorem': 1,\n",
              " 'Nets of 3D Figures': 1,\n",
              " 'Unit Conversion Within a System': 1,\n",
              " 'Effect of Changing Dimensions of a Shape Prportionally': 1,\n",
              " 'Area Circle': 1,\n",
              " 'Circumference ': 1,\n",
              " 'Perimeter of a Polygon': 1,\n",
              " 'Reading a Ruler or Scale': 1,\n",
              " 'Calculations with Similar Figures': 1,\n",
              " 'Conversion of Fraction Decimals Percents': 1,\n",
              " 'Equivalent Fractions': 1,\n",
              " 'Ordering Positive Decimals': 1,\n",
              " 'Ordering Fractions': 1,\n",
              " 'Ordering Integers': 1,\n",
              " 'Ordering Real Numbers': 1,\n",
              " 'Rounding': 1,\n",
              " 'Addition Whole Numbers': 1,\n",
              " 'Division Fractions': 1,\n",
              " 'Estimation': 1,\n",
              " 'Fraction Of': 1,\n",
              " 'Least Common Multiple': 1,\n",
              " 'Multiplication Fractions': 1,\n",
              " 'Multiplication Whole Numbers': 1,\n",
              " 'Percent Of': 1,\n",
              " 'Subtraction Whole Numbers': 1,\n",
              " 'Square Root': 1,\n",
              " 'Finding Percents': 1,\n",
              " 'Proportion': 1,\n",
              " 'Scale Factor': 1,\n",
              " 'Unit Rate': 1,\n",
              " 'Scientific Notation': 1,\n",
              " 'Divisibility Rules': 1,\n",
              " 'Prime Number': 1,\n",
              " 'Absolute Value': 2,\n",
              " 'Exponents': 1,\n",
              " 'Pattern Finding ': 1,\n",
              " 'D.4.8-understanding-concept-of-probabilities': 1,\n",
              " 'Algebraic Simplification': 1,\n",
              " 'Algebraic Solving': 1,\n",
              " 'Choose an Equation from Given Information': 1,\n",
              " 'Intercept': 1,\n",
              " 'Linear Equations': 1,\n",
              " 'Percent Discount': 1,\n",
              " 'Percents': 1,\n",
              " 'Rate': 1,\n",
              " 'Slope': 1,\n",
              " 'Multiplication and Division Positive Decimals': 1,\n",
              " 'Addition and Subtraction Integers': 1,\n",
              " 'Addition and Subtraction Positive Decimals': 1,\n",
              " 'Multiplication and Division Integers': 1,\n",
              " 'Addition and Subtraction Fractions': 1,\n",
              " 'Reflection': 1,\n",
              " 'Rotations': 1,\n",
              " 'Translations': 1,\n",
              " 'Area Irregular Figure': 1,\n",
              " 'Area Parallelogram': 1,\n",
              " 'Area Rectangle': 1,\n",
              " 'Area Trapezoid': 1,\n",
              " 'Area Triangle': 1,\n",
              " 'Surface Area Cylinder': 1,\n",
              " 'Surface Area Rectangular Prism': 1,\n",
              " 'Volume Cylinder': 1,\n",
              " 'Volume Rectangular Prism': 1,\n",
              " 'Volume Sphere': 1,\n",
              " 'Order of Operations +,-,/,* () positive reals': 1,\n",
              " 'Order of Operations All': 1,\n",
              " 'Equation Solving Two or Fewer Steps': 1,\n",
              " 'Equation Solving More Than Two Steps': 1,\n",
              " 'Angles - Obtuse, Acute, and Right': 1,\n",
              " 'Greatest Common Factor': 1,\n",
              " 'Computation with Real Numbers': 1,\n",
              " 'Write Linear Equation from Ordered Pairs': 1,\n",
              " 'Write Linear Equation from Situation': 1,\n",
              " 'Recognize Linear Pattern': 1,\n",
              " 'Write Linear Equation from Graph': 1,\n",
              " 'Finding Slope From Situation': 1,\n",
              " 'Finding Slope From Equation': 1,\n",
              " 'Finding Slope from Ordered Pairs': 1,\n",
              " 'Distributive Property': 1,\n",
              " 'Midpoint': 1,\n",
              " 'Polynomial Factors': 1,\n",
              " 'Recognize Quadratic Pattern': 1,\n",
              " 'Solving Systems of Linear Equations': 1,\n",
              " 'Quadratic Formula to Solve Quadratic Equation': 1,\n",
              " 'Parts of a Polyomial, Terms, Coefficient, Monomial, Exponent, Variable': 1,\n",
              " 'Interpreting Coordinate Graphs ': 1,\n",
              " 'Solving for a variable': 1,\n",
              " 'Simplifying Expressions positive exponents': 1,\n",
              " 'Solving Inequalities': 1,\n",
              " 'Solving Systems of Linear Equations by Graphing': 1}"
            ]
          },
          "metadata": {},
          "execution_count": 56
        }
      ]
    },
    {
      "cell_type": "code",
      "source": [
        "#absolute value in skill_id 85 and 163\n",
        "# let all 163 be 85"
      ],
      "metadata": {
        "colab": {
          "base_uri": "https://localhost:8080/"
        },
        "id": "LvzoeH1cfSNf",
        "outputId": "e3476368-2084-40e3-b8c2-00e533697aef"
      },
      "execution_count": 38,
      "outputs": [
        {
          "output_type": "execute_result",
          "data": {
            "text/plain": [
              "111"
            ]
          },
          "metadata": {},
          "execution_count": 38
        }
      ]
    },
    {
      "cell_type": "code",
      "source": [
        "data['skill_id'].replace(163,85,inplace=True)"
      ],
      "metadata": {
        "id": "jtD67jdGqG-I"
      },
      "execution_count": 71,
      "outputs": []
    },
    {
      "cell_type": "code",
      "source": [
        "#numbers of concepts by id\n",
        "print(\"The number of concepts: \"+ str(len(data['skill_id'].unique())))\n",
        "#numbers of concepts by name\n",
        "print(\"The number of concepts: \"+ str(len(data['skill_name'].unique()))) #checked: some skills dont have name!"
      ],
      "metadata": {
        "colab": {
          "base_uri": "https://localhost:8080/"
        },
        "id": "DOH-X0iLz37G",
        "outputId": "8bfc8703-49ee-4e2d-b46f-06458042c4c1"
      },
      "execution_count": 72,
      "outputs": [
        {
          "output_type": "stream",
          "name": "stdout",
          "text": [
            "The number of concepts: 110\n",
            "The number of concepts: 110\n"
          ]
        }
      ]
    }
  ]
}