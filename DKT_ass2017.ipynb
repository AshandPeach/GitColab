{
  "nbformat": 4,
  "nbformat_minor": 0,
  "metadata": {
    "colab": {
      "name": "DKT-ass2017.ipynb",
      "provenance": [],
      "collapsed_sections": [],
      "authorship_tag": "ABX9TyM/4l3IiMFgGIzYKE4ptiZi",
      "include_colab_link": true
    },
    "kernelspec": {
      "name": "python3",
      "display_name": "Python 3"
    },
    "language_info": {
      "name": "python"
    }
  },
  "cells": [
    {
      "cell_type": "markdown",
      "metadata": {
        "id": "view-in-github",
        "colab_type": "text"
      },
      "source": [
        "<a href=\"https://colab.research.google.com/github/CrrazyPeach/GitColab/blob/main/DKT_ass2017.ipynb\" target=\"_parent\"><img src=\"https://colab.research.google.com/assets/colab-badge.svg\" alt=\"Open In Colab\"/></a>"
      ]
    },
    {
      "cell_type": "code",
      "execution_count": 57,
      "metadata": {
        "colab": {
          "base_uri": "https://localhost:8080/"
        },
        "id": "AHGTBBpywDmR",
        "outputId": "0eb1a863-c09e-4414-e0a9-39f182f69708"
      },
      "outputs": [
        {
          "output_type": "stream",
          "name": "stdout",
          "text": [
            "Drive already mounted at /content/drive; to attempt to forcibly remount, call drive.mount(\"/content/drive\", force_remount=True).\n"
          ]
        }
      ],
      "source": [
        "from google.colab import drive\n",
        "drive.mount('/content/drive')"
      ]
    },
    {
      "cell_type": "code",
      "source": [
        "import random\n",
        "import pandas as pd\n",
        "import tqdm\n",
        "import numpy as np\n",
        "\n",
        "data = pd.read_csv(\n",
        "    '/content/drive/MyDrive/assignment2017.csv',\n",
        "    usecols=['studentId', 'MiddleSchoolId','problemId', 'assignmentId', 'skill', 'correct','timeTaken','AveCorrect','hintCount','hintTotal','bottomHint','attemptCount','AveCorrect'\n",
        "        ,'frIsHelpRequest','frPast5HelpRequest','frPast8HelpRequest','totalFrPercentPastWrong','timeGreater10SecAndNextActionRight']\n",
        ").dropna(subset=['skill'])"
      ],
      "metadata": {
        "id": "2LUQTT_u-hd-"
      },
      "execution_count": 58,
      "outputs": []
    },
    {
      "cell_type": "code",
      "source": [
        "raw_question = data.skill.unique().tolist()\n",
        "num_skill = len(raw_question)\n",
        "\n",
        "# question id from 0 to (num_skill - 1)\n",
        "questions = { p: i for i, p in enumerate(raw_question) }\n",
        "\n",
        "print(\"number of skills: %d\" % num_skill)"
      ],
      "metadata": {
        "colab": {
          "base_uri": "https://localhost:8080/"
        },
        "id": "kao_8uyo-Bt3",
        "outputId": "692f9849-e890-419b-d716-04d823d0e44d"
      },
      "execution_count": 59,
      "outputs": [
        {
          "output_type": "stream",
          "name": "stdout",
          "text": [
            "number of skills: 102\n"
          ]
        }
      ]
    },
    {
      "cell_type": "code",
      "source": [
        "def parse_all_seq(students):\n",
        "    all_sequences = []\n",
        "    for student_id in tqdm.tqdm(students, 'parse student sequence:\\t'):\n",
        "        student_sequence = parse_student_seq(data[data.studentId == student_id])\n",
        "        all_sequences.extend([student_sequence])\n",
        "    return all_sequences\n",
        "\n",
        "\n",
        "def parse_student_seq(student):\n",
        "    seq = student.sort_values('problemId')\n",
        "    q = [questions[q] for q in seq.skill.tolist()]\n",
        "    a = seq.correct.tolist()\n",
        "    return q, a\n",
        "\n",
        "\n",
        "# [(question_sequence_0, answer_sequence_0), ..., (question_sequence_n, answer_sequence_n)]\n",
        "sequences = parse_all_seq(data.studentId.unique())"
      ],
      "metadata": {
        "colab": {
          "base_uri": "https://localhost:8080/"
        },
        "id": "YJPFBLwW_Zj4",
        "outputId": "dceac6cf-0ebe-4671-db03-0e25c23dc65c"
      },
      "execution_count": 60,
      "outputs": [
        {
          "output_type": "stream",
          "name": "stderr",
          "text": [
            "parse student sequence:\t: 100%|██████████| 1709/1709 [00:04<00:00, 426.42it/s]\n"
          ]
        }
      ]
    },
    {
      "cell_type": "code",
      "source": [
        "def train_test_split(data, train_size=.7, shuffle=True):\n",
        "    if shuffle:\n",
        "        random.shuffle(data)\n",
        "    boundary = round(len(data) * train_size)\n",
        "    return data[: boundary], data[boundary:]\n",
        "\n",
        "\n",
        "train_sequences, test_sequences = train_test_split(sequences)"
      ],
      "metadata": {
        "id": "CDfw44wZAkuf"
      },
      "execution_count": 61,
      "outputs": []
    },
    {
      "cell_type": "code",
      "source": [
        "def sequences2tl(sequences, trgpath):\n",
        "    with open(trgpath, 'a', encoding='utf8') as f:\n",
        "        for seq in tqdm.tqdm(sequences, 'write into file: '):\n",
        "            questions, answers = seq\n",
        "            seq_len = len(questions)\n",
        "            f.write(str(seq_len) + '\\n')\n",
        "            f.write(','.join([str(q) for q in questions]) + '\\n')\n",
        "            f.write(','.join([str(a) for a in answers]) + '\\n')\n",
        "\n",
        "\n",
        "# save triple line format for other tasks\n",
        "sequences2tl(train_sequences, '/content/drive/MyDrive/assignment2017train.txt')\n",
        "sequences2tl(test_sequences, '/content/drive/MyDrive/assignment2017test.txt')"
      ],
      "metadata": {
        "colab": {
          "base_uri": "https://localhost:8080/"
        },
        "id": "jfSmdqj-Ak1S",
        "outputId": "2a563f14-8e0d-47ba-a160-fc508f539eb2"
      },
      "execution_count": 62,
      "outputs": [
        {
          "output_type": "stream",
          "name": "stderr",
          "text": [
            "write into file: 100%|██████████| 1196/1196 [00:00<00:00, 1317.03it/s]\n",
            "write into file: 100%|██████████| 513/513 [00:00<00:00, 1155.47it/s]\n"
          ]
        }
      ]
    },
    {
      "cell_type": "code",
      "source": [
        "MAX_STEP = 50\n",
        "NUM_QUESTIONS = num_skill\n",
        "\n",
        "\n",
        "def encode_onehot(sequences, max_step, num_questions):\n",
        "    result = []\n",
        "\n",
        "    for q, a in tqdm.tqdm(sequences, 'convert to one-hot format: '):\n",
        "        length = len(q)\n",
        "        # append questions' and answers' length to an integer multiple of max_step\n",
        "        mod = 0 if length % max_step == 0 else (max_step - length % max_step)\n",
        "        onehot = np.zeros(shape=[length + mod, 2 * num_questions])\n",
        "        for i, q_id in enumerate(q):\n",
        "            index = int(q_id if a[i] > 0 else q_id + num_questions)\n",
        "            onehot[i][index] = 1\n",
        "        result = np.append(result, onehot)\n",
        "    \n",
        "    return result.reshape(-1, max_step, 2 * num_questions)\n",
        "\n",
        "\n",
        "# reduce the amount of data for example running faster\n",
        "percentage = 0.05\n",
        "train_data = encode_onehot(train_sequences[: int(len(train_sequences) * percentage)], MAX_STEP, NUM_QUESTIONS)\n",
        "test_data = encode_onehot(test_sequences[: int(len(test_sequences) * percentage)], MAX_STEP, NUM_QUESTIONS)"
      ],
      "metadata": {
        "colab": {
          "base_uri": "https://localhost:8080/"
        },
        "id": "AzMyHwW4Ak6P",
        "outputId": "3085c22d-93ec-4458-f11f-6d30b704cc26"
      },
      "execution_count": 63,
      "outputs": [
        {
          "output_type": "stream",
          "name": "stderr",
          "text": [
            "convert to one-hot format: 100%|██████████| 59/59 [00:01<00:00, 54.28it/s]\n",
            "convert to one-hot format: 100%|██████████| 25/25 [00:00<00:00, 100.48it/s]\n"
          ]
        }
      ]
    },
    {
      "cell_type": "code",
      "source": [
        "# save onehot data\n",
        "np.save('/content/drive/MyDrive/assignment2017train.txt', train_data)\n",
        "np.save('/content/drive/MyDrive/assignment2017test.txt', test_data)"
      ],
      "metadata": {
        "id": "sRDXgg_HMCJv"
      },
      "execution_count": 64,
      "outputs": []
    }
  ]
}